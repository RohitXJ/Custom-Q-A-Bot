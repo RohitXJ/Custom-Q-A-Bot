{
 "cells": [
  {
   "cell_type": "markdown",
   "id": "1d033724",
   "metadata": {},
   "source": [
    "# Imports"
   ]
  },
  {
   "cell_type": "code",
   "execution_count": 19,
   "id": "f75f8930",
   "metadata": {},
   "outputs": [],
   "source": [
    "import os\n",
    "import re\n",
    "import numpy as np\n",
    "import faiss\n",
    "from sentence_transformers import SentenceTransformer\n",
    "from transformers import AutoModelForCausalLM, AutoTokenizer\n",
    "import torch"
   ]
  },
  {
   "cell_type": "markdown",
   "id": "156f9946",
   "metadata": {},
   "source": [
    "# Data Loading"
   ]
  },
  {
   "cell_type": "code",
   "execution_count": 20,
   "id": "fa8ba32a",
   "metadata": {},
   "outputs": [],
   "source": [
    "def load_txt(file_path):\n",
    "    with open(file_path, 'r', encoding='utf-8') as f:\n",
    "        text = f.read()\n",
    "    return text"
   ]
  },
  {
   "cell_type": "code",
   "execution_count": 21,
   "id": "637a0591",
   "metadata": {},
   "outputs": [],
   "source": [
    "def clean_text(text):\n",
    "    # Remove extra newlines and spaces\n",
    "    text = re.sub(r'\\n+', '\\n', text)\n",
    "    text = re.sub(r'[ \\t]+', ' ', text)\n",
    "    return text.strip()"
   ]
  },
  {
   "cell_type": "code",
   "execution_count": 22,
   "id": "ac2d1ab3",
   "metadata": {},
   "outputs": [],
   "source": [
    "def chunk_text(text, max_tokens=100):\n",
    "    \"\"\"\n",
    "    Splits text into chunks of ~max_tokens (approx. by word count for simplicity).\n",
    "    In real scenarios, you'd use a tokenizer for precise token counts.\n",
    "    \"\"\"\n",
    "    words = text.split()\n",
    "    chunks = []\n",
    "    for i in range(0, len(words), max_tokens):\n",
    "        chunk = ' '.join(words[i:i + max_tokens])\n",
    "        chunks.append(chunk)\n",
    "    return chunks"
   ]
  },
  {
   "cell_type": "code",
   "execution_count": 24,
   "id": "18bb987a",
   "metadata": {},
   "outputs": [
    {
     "name": "stdout",
     "output_type": "stream",
     "text": [
      "✅ Loaded 43 chunks.\n",
      "🔹 First chunk preview:\n",
      " Hello! This is a sample text document created to test your Language Model project. As an AI assistant, I can help you manage your schedule and remind you of any upcoming meetings or tasks you have. Do you have any meetings today? Or perhaps you need help organizing your to-do list? If you have work to do, it's important to prioritize tasks based on deadlines and importance. I can help you create reminders for your work, so you never miss a deadline. Talking about preferences, do you like a particular type of cuisine or food? For example, I enjoy discussing\n"
     ]
    }
   ],
   "source": [
    "file_path = \"DATA_POOL/sample_txt.txt\" \n",
    "text = load_txt(file_path)\n",
    "text = clean_text(text)\n",
    "chunks = chunk_text(text)\n",
    "\n",
    "print(f\"✅ Loaded {len(chunks)} chunks.\")\n",
    "print(\"🔹 First chunk preview:\\n\", chunks[0])"
   ]
  },
  {
   "cell_type": "markdown",
   "id": "af1700f1",
   "metadata": {},
   "source": [
    "# Generate Embeddings + Build Vector DB with FAISS"
   ]
  },
  {
   "cell_type": "code",
   "execution_count": 25,
   "id": "548d9ccb",
   "metadata": {},
   "outputs": [],
   "source": [
    "model_embedd = SentenceTransformer('all-MiniLM-L6-v2')"
   ]
  },
  {
   "cell_type": "code",
   "execution_count": 26,
   "id": "65a3d1ce",
   "metadata": {},
   "outputs": [
    {
     "data": {
      "application/vnd.jupyter.widget-view+json": {
       "model_id": "77d56ecddf7a4611bb73253c9b82b0f1",
       "version_major": 2,
       "version_minor": 0
      },
      "text/plain": [
       "Batches:   0%|          | 0/2 [00:00<?, ?it/s]"
      ]
     },
     "metadata": {},
     "output_type": "display_data"
    },
    {
     "name": "stderr",
     "output_type": "stream",
     "text": [
      "f:\\AI ENGINEER LEVEL MAP\\HIGH LEVEL\\Custom-Q-A-Bot-\\llm_rag_env\\Lib\\site-packages\\torch\\nn\\modules\\module.py:1762: FutureWarning: `encoder_attention_mask` is deprecated and will be removed in version 4.55.0 for `BertSdpaSelfAttention.forward`.\n",
      "  return forward_call(*args, **kwargs)\n"
     ]
    },
    {
     "name": "stdout",
     "output_type": "stream",
     "text": [
      "Shape of one embedding: (384,)\n"
     ]
    }
   ],
   "source": [
    "# Convert each chunk into a vector\n",
    "embeddings = model_embedd.encode(chunks, show_progress_bar=True)\n",
    "\n",
    "# Check one embedding\n",
    "print(f\"Shape of one embedding: {embeddings[0].shape}\")"
   ]
  },
  {
   "cell_type": "code",
   "execution_count": 27,
   "id": "7ab15e7c",
   "metadata": {},
   "outputs": [
    {
     "name": "stdout",
     "output_type": "stream",
     "text": [
      "✅ Added 43 vectors to the FAISS index.\n"
     ]
    }
   ],
   "source": [
    "# Each vector has 384 dimensions for MiniLM model\n",
    "dimension = embeddings[0].shape[0]\n",
    "index = faiss.IndexFlatL2(dimension)  # L2 = Euclidean distance\n",
    "\n",
    "# Convert to numpy array and add to index\n",
    "embedding_matrix = np.array(embeddings).astype('float32')\n",
    "index.add(embedding_matrix)\n",
    "\n",
    "print(f\"✅ Added {index.ntotal} vectors to the FAISS index.\")"
   ]
  },
  {
   "cell_type": "code",
   "execution_count": 36,
   "id": "876f27fd",
   "metadata": {},
   "outputs": [
    {
     "data": {
      "text/plain": [
       "{0: \"Hello! This is a sample text document created to test your Language Model project. As an AI assistant, I can help you manage your schedule and remind you of any upcoming meetings or tasks you have. Do you have any meetings today? Or perhaps you need help organizing your to-do list? If you have work to do, it's important to prioritize tasks based on deadlines and importance. I can help you create reminders for your work, so you never miss a deadline. Talking about preferences, do you like a particular type of cuisine or food? For example, I enjoy discussing\",\n",
       " 1: \"food preferences with users. Do you prefer spicy foods, sweet treats, or something savory? It's also useful to talk about your hobbies and interests. Do you enjoy reading books, watching movies, or perhaps playing video games? These insights help me personalize responses and suggestions better. Now, let's talk about health. Do you have a workout routine? Staying active is important for overall well-being, and I can suggest workout plans or even remind you to take short breaks during work. Weather is another aspect I can help with. Do you want to know what the weather will be like today or\",\n",
       " 2: 'this week? I can provide forecasts and even suggest if you need to carry an umbrella. If you have traveled recently or plan to travel, I can assist with itinerary plans, keep your travel documents handy, and remind you of important travel dates. Do you have any friends or family members you want to keep in touch with regularly? I can remind you to call or message them on special occasions. Talking about your daily routine, do you have any specific time for meals? Are you a breakfast person, or do you prefer brunch? Knowing your routine helps me provide',\n",
       " 3: \"timely suggestions and reminders. Music preferences are also fun to discuss. What genre of music do you like? I can help you find new artists or playlists based on your taste. Are you learning something new? Perhaps a language, a programming skill, or a musical instrument? I can help track your progress and suggest resources. Mental health is just as important as physical health. Do you practice meditation or mindfulness? I can guide you through some techniques or remind you to take moments for yourself. Let's not forget about your goals. What are some short-term and long-term goals you want\",\n",
       " 4: 'to achieve? Having clear goals helps in planning and tracking progress. Do you have any pets? Pets are wonderful companions, and I can remind you about feeding times or vet appointments. If you like shopping, I can help you keep track of your expenses and create shopping lists. Lastly, staying informed is important. Are you interested in news updates, sports scores, or tech advancements? I can provide summaries based on your interests. Feel free to tell me more about yourself, and I will adapt to assist you better. This sample text aims to cover a variety of topics an AI',\n",
       " 5: \"assistant should know or ask about to personalize interactions effectively. Thank you for using this sample text. I hope it serves well for your LLM testing project. Hello! This is a sample text document created to test your Language Model project. As an AI assistant, I can help you manage your schedule and remind you of any upcoming meetings or tasks you have. Do you have any meetings today? Or perhaps you need help organizing your to-do list? If you have work to do, it's important to prioritize tasks based on deadlines and importance. I can help you create reminders\",\n",
       " 6: \"for your work, so you never miss a deadline. Talking about preferences, do you like a particular type of cuisine or food? For example, I enjoy discussing food preferences with users. Do you prefer spicy foods, sweet treats, or something savory? It's also useful to talk about your hobbies and interests. Do you enjoy reading books, watching movies, or perhaps playing video games? These insights help me personalize responses and suggestions better. Now, let's talk about health. Do you have a workout routine? Staying active is important for overall well-being, and I can suggest workout plans or even remind you\",\n",
       " 7: 'to take short breaks during work. Weather is another aspect I can help with. Do you want to know what the weather will be like today or this week? I can provide forecasts and even suggest if you need to carry an umbrella. If you have traveled recently or plan to travel, I can assist with itinerary plans, keep your travel documents handy, and remind you of important travel dates. Do you have any friends or family members you want to keep in touch with regularly? I can remind you to call or message them on special occasions. Talking about',\n",
       " 8: 'your daily routine, do you have any specific time for meals? Are you a breakfast person, or do you prefer brunch? Knowing your routine helps me provide timely suggestions and reminders. Music preferences are also fun to discuss. What genre of music do you like? I can help you find new artists or playlists based on your taste. Are you learning something new? Perhaps a language, a programming skill, or a musical instrument? I can help track your progress and suggest resources. Mental health is just as important as physical health. Do you practice meditation or mindfulness? I can guide',\n",
       " 9: \"you through some techniques or remind you to take moments for yourself. Let's not forget about your goals. What are some short-term and long-term goals you want to achieve? Having clear goals helps in planning and tracking progress. Do you have any pets? Pets are wonderful companions, and I can remind you about feeding times or vet appointments. If you like shopping, I can help you keep track of your expenses and create shopping lists. Lastly, staying informed is important. Are you interested in news updates, sports scores, or tech advancements? I can provide summaries based on your interests. Feel\",\n",
       " 10: 'free to tell me more about yourself, and I will adapt to assist you better. This sample text aims to cover a variety of topics an AI assistant should know or ask about to personalize interactions effectively. Thank you for using this sample text. I hope it serves well for your LLM testing project. Hello! This is a sample text document created to test your Language Model project. As an AI assistant, I can help you manage your schedule and remind you of any upcoming meetings or tasks you have. Do you have any meetings today? Or perhaps you need',\n",
       " 11: \"help organizing your to-do list? If you have work to do, it's important to prioritize tasks based on deadlines and importance. I can help you create reminders for your work, so you never miss a deadline. Talking about preferences, do you like a particular type of cuisine or food? For example, I enjoy discussing food preferences with users. Do you prefer spicy foods, sweet treats, or something savory? It's also useful to talk about your hobbies and interests. Do you enjoy reading books, watching movies, or perhaps playing video games? These insights help me personalize responses and suggestions better. Now,\",\n",
       " 12: \"let's talk about health. Do you have a workout routine? Staying active is important for overall well-being, and I can suggest workout plans or even remind you to take short breaks during work. Weather is another aspect I can help with. Do you want to know what the weather will be like today or this week? I can provide forecasts and even suggest if you need to carry an umbrella. If you have traveled recently or plan to travel, I can assist with itinerary plans, keep your travel documents handy, and remind you of important travel dates. Do you have\",\n",
       " 13: 'any friends or family members you want to keep in touch with regularly? I can remind you to call or message them on special occasions. Talking about your daily routine, do you have any specific time for meals? Are you a breakfast person, or do you prefer brunch? Knowing your routine helps me provide timely suggestions and reminders. Music preferences are also fun to discuss. What genre of music do you like? I can help you find new artists or playlists based on your taste. Are you learning something new? Perhaps a language, a programming skill, or a musical instrument?',\n",
       " 14: \"I can help track your progress and suggest resources. Mental health is just as important as physical health. Do you practice meditation or mindfulness? I can guide you through some techniques or remind you to take moments for yourself. Let's not forget about your goals. What are some short-term and long-term goals you want to achieve? Having clear goals helps in planning and tracking progress. Do you have any pets? Pets are wonderful companions, and I can remind you about feeding times or vet appointments. If you like shopping, I can help you keep track of your expenses and create\",\n",
       " 15: 'shopping lists. Lastly, staying informed is important. Are you interested in news updates, sports scores, or tech advancements? I can provide summaries based on your interests. Feel free to tell me more about yourself, and I will adapt to assist you better. This sample text aims to cover a variety of topics an AI assistant should know or ask about to personalize interactions effectively. Thank you for using this sample text. I hope it serves well for your LLM testing project. Hello! This is a sample text document created to test your Language Model project. As an AI assistant, I',\n",
       " 16: \"can help you manage your schedule and remind you of any upcoming meetings or tasks you have. Do you have any meetings today? Or perhaps you need help organizing your to-do list? If you have work to do, it's important to prioritize tasks based on deadlines and importance. I can help you create reminders for your work, so you never miss a deadline. Talking about preferences, do you like a particular type of cuisine or food? For example, I enjoy discussing food preferences with users. Do you prefer spicy foods, sweet treats, or something savory? It's also useful to talk\",\n",
       " 17: \"about your hobbies and interests. Do you enjoy reading books, watching movies, or perhaps playing video games? These insights help me personalize responses and suggestions better. Now, let's talk about health. Do you have a workout routine? Staying active is important for overall well-being, and I can suggest workout plans or even remind you to take short breaks during work. Weather is another aspect I can help with. Do you want to know what the weather will be like today or this week? I can provide forecasts and even suggest if you need to carry an umbrella. If you have\",\n",
       " 18: 'traveled recently or plan to travel, I can assist with itinerary plans, keep your travel documents handy, and remind you of important travel dates. Do you have any friends or family members you want to keep in touch with regularly? I can remind you to call or message them on special occasions. Talking about your daily routine, do you have any specific time for meals? Are you a breakfast person, or do you prefer brunch? Knowing your routine helps me provide timely suggestions and reminders. Music preferences are also fun to discuss. What genre of music do you like? I',\n",
       " 19: \"can help you find new artists or playlists based on your taste. Are you learning something new? Perhaps a language, a programming skill, or a musical instrument? I can help track your progress and suggest resources. Mental health is just as important as physical health. Do you practice meditation or mindfulness? I can guide you through some techniques or remind you to take moments for yourself. Let's not forget about your goals. What are some short-term and long-term goals you want to achieve? Having clear goals helps in planning and tracking progress. Do you have any pets? Pets are wonderful\",\n",
       " 20: 'companions, and I can remind you about feeding times or vet appointments. If you like shopping, I can help you keep track of your expenses and create shopping lists. Lastly, staying informed is important. Are you interested in news updates, sports scores, or tech advancements? I can provide summaries based on your interests. Feel free to tell me more about yourself, and I will adapt to assist you better. This sample text aims to cover a variety of topics an AI assistant should know or ask about to personalize interactions effectively. Thank you for using this sample text. I hope',\n",
       " 21: \"it serves well for your LLM testing project. Hello! This is a sample text document created to test your Language Model project. As an AI assistant, I can help you manage your schedule and remind you of any upcoming meetings or tasks you have. Do you have any meetings today? Or perhaps you need help organizing your to-do list? If you have work to do, it's important to prioritize tasks based on deadlines and importance. I can help you create reminders for your work, so you never miss a deadline. Talking about preferences, do you like a particular type of\",\n",
       " 22: \"cuisine or food? For example, I enjoy discussing food preferences with users. Do you prefer spicy foods, sweet treats, or something savory? It's also useful to talk about your hobbies and interests. Do you enjoy reading books, watching movies, or perhaps playing video games? These insights help me personalize responses and suggestions better. Now, let's talk about health. Do you have a workout routine? Staying active is important for overall well-being, and I can suggest workout plans or even remind you to take short breaks during work. Weather is another aspect I can help with. Do you want to know\",\n",
       " 23: 'what the weather will be like today or this week? I can provide forecasts and even suggest if you need to carry an umbrella. If you have traveled recently or plan to travel, I can assist with itinerary plans, keep your travel documents handy, and remind you of important travel dates. Do you have any friends or family members you want to keep in touch with regularly? I can remind you to call or message them on special occasions. Talking about your daily routine, do you have any specific time for meals? Are you a breakfast person, or do you',\n",
       " 24: \"prefer brunch? Knowing your routine helps me provide timely suggestions and reminders. Music preferences are also fun to discuss. What genre of music do you like? I can help you find new artists or playlists based on your taste. Are you learning something new? Perhaps a language, a programming skill, or a musical instrument? I can help track your progress and suggest resources. Mental health is just as important as physical health. Do you practice meditation or mindfulness? I can guide you through some techniques or remind you to take moments for yourself. Let's not forget about your goals. What\",\n",
       " 25: 'are some short-term and long-term goals you want to achieve? Having clear goals helps in planning and tracking progress. Do you have any pets? Pets are wonderful companions, and I can remind you about feeding times or vet appointments. If you like shopping, I can help you keep track of your expenses and create shopping lists. Lastly, staying informed is important. Are you interested in news updates, sports scores, or tech advancements? I can provide summaries based on your interests. Feel free to tell me more about yourself, and I will adapt to assist you better. This sample text aims',\n",
       " 26: \"to cover a variety of topics an AI assistant should know or ask about to personalize interactions effectively. Thank you for using this sample text. I hope it serves well for your LLM testing project. Hello! This is a sample text document created to test your Language Model project. As an AI assistant, I can help you manage your schedule and remind you of any upcoming meetings or tasks you have. Do you have any meetings today? Or perhaps you need help organizing your to-do list? If you have work to do, it's important to prioritize tasks based on deadlines\",\n",
       " 27: \"and importance. I can help you create reminders for your work, so you never miss a deadline. Talking about preferences, do you like a particular type of cuisine or food? For example, I enjoy discussing food preferences with users. Do you prefer spicy foods, sweet treats, or something savory? It's also useful to talk about your hobbies and interests. Do you enjoy reading books, watching movies, or perhaps playing video games? These insights help me personalize responses and suggestions better. Now, let's talk about health. Do you have a workout routine? Staying active is important for overall well-being, and I\",\n",
       " 28: 'can suggest workout plans or even remind you to take short breaks during work. Weather is another aspect I can help with. Do you want to know what the weather will be like today or this week? I can provide forecasts and even suggest if you need to carry an umbrella. If you have traveled recently or plan to travel, I can assist with itinerary plans, keep your travel documents handy, and remind you of important travel dates. Do you have any friends or family members you want to keep in touch with regularly? I can remind you to call',\n",
       " 29: 'or message them on special occasions. Talking about your daily routine, do you have any specific time for meals? Are you a breakfast person, or do you prefer brunch? Knowing your routine helps me provide timely suggestions and reminders. Music preferences are also fun to discuss. What genre of music do you like? I can help you find new artists or playlists based on your taste. Are you learning something new? Perhaps a language, a programming skill, or a musical instrument? I can help track your progress and suggest resources. Mental health is just as important as physical health. Do',\n",
       " 30: \"you practice meditation or mindfulness? I can guide you through some techniques or remind you to take moments for yourself. Let's not forget about your goals. What are some short-term and long-term goals you want to achieve? Having clear goals helps in planning and tracking progress. Do you have any pets? Pets are wonderful companions, and I can remind you about feeding times or vet appointments. If you like shopping, I can help you keep track of your expenses and create shopping lists. Lastly, staying informed is important. Are you interested in news updates, sports scores, or tech advancements? I\",\n",
       " 31: 'can provide summaries based on your interests. Feel free to tell me more about yourself, and I will adapt to assist you better. This sample text aims to cover a variety of topics an AI assistant should know or ask about to personalize interactions effectively. Thank you for using this sample text. I hope it serves well for your LLM testing project. Hello! This is a sample text document created to test your Language Model project. As an AI assistant, I can help you manage your schedule and remind you of any upcoming meetings or tasks you have. Do you',\n",
       " 32: \"have any meetings today? Or perhaps you need help organizing your to-do list? If you have work to do, it's important to prioritize tasks based on deadlines and importance. I can help you create reminders for your work, so you never miss a deadline. Talking about preferences, do you like a particular type of cuisine or food? For example, I enjoy discussing food preferences with users. Do you prefer spicy foods, sweet treats, or something savory? It's also useful to talk about your hobbies and interests. Do you enjoy reading books, watching movies, or perhaps playing video games? These insights\",\n",
       " 33: \"help me personalize responses and suggestions better. Now, let's talk about health. Do you have a workout routine? Staying active is important for overall well-being, and I can suggest workout plans or even remind you to take short breaks during work. Weather is another aspect I can help with. Do you want to know what the weather will be like today or this week? I can provide forecasts and even suggest if you need to carry an umbrella. If you have traveled recently or plan to travel, I can assist with itinerary plans, keep your travel documents handy, and remind\",\n",
       " 34: 'you of important travel dates. Do you have any friends or family members you want to keep in touch with regularly? I can remind you to call or message them on special occasions. Talking about your daily routine, do you have any specific time for meals? Are you a breakfast person, or do you prefer brunch? Knowing your routine helps me provide timely suggestions and reminders. Music preferences are also fun to discuss. What genre of music do you like? I can help you find new artists or playlists based on your taste. Are you learning something new? Perhaps a',\n",
       " 35: \"language, a programming skill, or a musical instrument? I can help track your progress and suggest resources. Mental health is just as important as physical health. Do you practice meditation or mindfulness? I can guide you through some techniques or remind you to take moments for yourself. Let's not forget about your goals. What are some short-term and long-term goals you want to achieve? Having clear goals helps in planning and tracking progress. Do you have any pets? Pets are wonderful companions, and I can remind you about feeding times or vet appointments. If you like shopping, I can help\",\n",
       " 36: 'you keep track of your expenses and create shopping lists. Lastly, staying informed is important. Are you interested in news updates, sports scores, or tech advancements? I can provide summaries based on your interests. Feel free to tell me more about yourself, and I will adapt to assist you better. This sample text aims to cover a variety of topics an AI assistant should know or ask about to personalize interactions effectively. Thank you for using this sample text. I hope it serves well for your LLM testing project. Hello! This is a sample text document created to test your',\n",
       " 37: \"Language Model project. As an AI assistant, I can help you manage your schedule and remind you of any upcoming meetings or tasks you have. Do you have any meetings today? Or perhaps you need help organizing your to-do list? If you have work to do, it's important to prioritize tasks based on deadlines and importance. I can help you create reminders for your work, so you never miss a deadline. Talking about preferences, do you like a particular type of cuisine or food? For example, I enjoy discussing food preferences with users. Do you prefer spicy foods, sweet treats,\",\n",
       " 38: \"or something savory? It's also useful to talk about your hobbies and interests. Do you enjoy reading books, watching movies, or perhaps playing video games? These insights help me personalize responses and suggestions better. Now, let's talk about health. Do you have a workout routine? Staying active is important for overall well-being, and I can suggest workout plans or even remind you to take short breaks during work. Weather is another aspect I can help with. Do you want to know what the weather will be like today or this week? I can provide forecasts and even suggest if you\",\n",
       " 39: 'need to carry an umbrella. If you have traveled recently or plan to travel, I can assist with itinerary plans, keep your travel documents handy, and remind you of important travel dates. Do you have any friends or family members you want to keep in touch with regularly? I can remind you to call or message them on special occasions. Talking about your daily routine, do you have any specific time for meals? Are you a breakfast person, or do you prefer brunch? Knowing your routine helps me provide timely suggestions and reminders. Music preferences are also fun to discuss.',\n",
       " 40: \"What genre of music do you like? I can help you find new artists or playlists based on your taste. Are you learning something new? Perhaps a language, a programming skill, or a musical instrument? I can help track your progress and suggest resources. Mental health is just as important as physical health. Do you practice meditation or mindfulness? I can guide you through some techniques or remind you to take moments for yourself. Let's not forget about your goals. What are some short-term and long-term goals you want to achieve? Having clear goals helps in planning and tracking progress.\",\n",
       " 41: 'Do you have any pets? Pets are wonderful companions, and I can remind you about feeding times or vet appointments. If you like shopping, I can help you keep track of your expenses and create shopping lists. Lastly, staying informed is important. Are you interested in news updates, sports scores, or tech advancements? I can provide summaries based on your interests. Feel free to tell me more about yourself, and I will adapt to assist you better. This sample text aims to cover a variety of topics an AI assistant should know or ask about to personalize interactions effectively. Thank',\n",
       " 42: 'you for using this sample text. I hope it serves well for your LLM testing project.'}"
      ]
     },
     "execution_count": 36,
     "metadata": {},
     "output_type": "execute_result"
    }
   ],
   "source": [
    "# Simple Python list can work for now\n",
    "chunk_id_to_text = {i: chunk for i, chunk in enumerate(chunks)}\n",
    "chunk_id_to_text"
   ]
  },
  {
   "cell_type": "markdown",
   "id": "14c29739",
   "metadata": {},
   "source": [
    "# Semantic Search + LLM Answering"
   ]
  },
  {
   "cell_type": "code",
   "execution_count": 37,
   "id": "50a93659",
   "metadata": {},
   "outputs": [],
   "source": [
    "# ✅ Step 4a: Embed the question\n",
    "def embed_query(question, model):\n",
    "    return model.encode([question])[0]  # Single vector"
   ]
  },
  {
   "cell_type": "code",
   "execution_count": 38,
   "id": "38589394",
   "metadata": {},
   "outputs": [],
   "source": [
    "# ✅ Step 4b: Use FAISS to find similar chunks\n",
    "def search_faiss(query_vector, index, top_k=3):\n",
    "    query_vector = np.array(query_vector).astype('float32').reshape(1, -1)\n",
    "    distances, indices = index.search(query_vector, top_k)\n",
    "    return indices[0]  # Top-k chunk indices"
   ]
  },
  {
   "cell_type": "code",
   "execution_count": 39,
   "id": "54c8f25a",
   "metadata": {},
   "outputs": [],
   "source": [
    "# ✅ Step 4c: Build the prompt for the LLM\n",
    "def build_prompt(question, chunk_indices, chunk_map):\n",
    "    prompt = \"You are an AI assistant. Use the following context to answer the question.\\n\\nContext:\\n\"\n",
    "    for idx in chunk_indices:\n",
    "        prompt += chunk_map[idx] + \"\\n\"\n",
    "    prompt += f\"\\nQuestion: {question}\\nAnswer:\"\n",
    "    return prompt"
   ]
  },
  {
   "cell_type": "markdown",
   "id": "9a8f05fe",
   "metadata": {},
   "source": [
    "# Load the LLM and Generate a Response"
   ]
  },
  {
   "cell_type": "code",
   "execution_count": 40,
   "id": "88a93f20",
   "metadata": {},
   "outputs": [
    {
     "data": {
      "application/vnd.jupyter.widget-view+json": {
       "model_id": "7ef9e5d931ee45369640d9f66ff7694f",
       "version_major": 2,
       "version_minor": 0
      },
      "text/plain": [
       "Loading checkpoint shards:   0%|          | 0/2 [00:00<?, ?it/s]"
      ]
     },
     "metadata": {},
     "output_type": "display_data"
    },
    {
     "data": {
      "text/plain": [
       "PhiForCausalLM(\n",
       "  (model): PhiModel(\n",
       "    (embed_tokens): Embedding(51200, 2560)\n",
       "    (layers): ModuleList(\n",
       "      (0-31): 32 x PhiDecoderLayer(\n",
       "        (self_attn): PhiAttention(\n",
       "          (q_proj): Linear(in_features=2560, out_features=2560, bias=True)\n",
       "          (k_proj): Linear(in_features=2560, out_features=2560, bias=True)\n",
       "          (v_proj): Linear(in_features=2560, out_features=2560, bias=True)\n",
       "          (dense): Linear(in_features=2560, out_features=2560, bias=True)\n",
       "        )\n",
       "        (mlp): PhiMLP(\n",
       "          (activation_fn): NewGELUActivation()\n",
       "          (fc1): Linear(in_features=2560, out_features=10240, bias=True)\n",
       "          (fc2): Linear(in_features=10240, out_features=2560, bias=True)\n",
       "        )\n",
       "        (input_layernorm): LayerNorm((2560,), eps=1e-05, elementwise_affine=True)\n",
       "        (resid_dropout): Dropout(p=0.1, inplace=False)\n",
       "      )\n",
       "    )\n",
       "    (rotary_emb): PhiRotaryEmbedding()\n",
       "    (embed_dropout): Dropout(p=0.0, inplace=False)\n",
       "    (final_layernorm): LayerNorm((2560,), eps=1e-05, elementwise_affine=True)\n",
       "  )\n",
       "  (lm_head): Linear(in_features=2560, out_features=51200, bias=True)\n",
       ")"
      ]
     },
     "execution_count": 40,
     "metadata": {},
     "output_type": "execute_result"
    }
   ],
   "source": [
    "# ✅ Load the Phi-2 model\n",
    "model_id = \"microsoft/phi-2\"\n",
    "device = \"cuda\" if torch.cuda.is_available() else \"cpu\"\n",
    "\n",
    "tokenizer = AutoTokenizer.from_pretrained(model_id)\n",
    "model = AutoModelForCausalLM.from_pretrained(model_id, torch_dtype=torch.float16 if device==\"cuda\" else torch.float32)\n",
    "model.to(device)\n",
    "model.eval()"
   ]
  },
  {
   "cell_type": "code",
   "execution_count": 41,
   "id": "5b635bc4",
   "metadata": {},
   "outputs": [],
   "source": [
    "# ✅ Generate answer from prompt\n",
    "def generate_answer(prompt, max_new_tokens=150):\n",
    "    inputs = tokenizer(prompt, return_tensors=\"pt\").to(device)\n",
    "    with torch.no_grad():\n",
    "        outputs = model.generate(\n",
    "            **inputs,\n",
    "            max_new_tokens=max_new_tokens,\n",
    "            do_sample=True,\n",
    "            temperature=0.7,\n",
    "            top_k=50,\n",
    "            top_p=0.9\n",
    "        )\n",
    "    answer = tokenizer.decode(outputs[0], skip_special_tokens=True)\n",
    "    return answer[len(prompt):].strip()  # Remove the prompt part from output\n"
   ]
  },
  {
   "cell_type": "code",
   "execution_count": 43,
   "id": "acff2ac9",
   "metadata": {},
   "outputs": [
    {
     "name": "stderr",
     "output_type": "stream",
     "text": [
      "Setting `pad_token_id` to `eos_token_id`:50256 for open-end generation.\n"
     ]
    },
    {
     "name": "stdout",
     "output_type": "stream",
     "text": [
      "[16 32  0]\n",
      "🤖 LLM Answer:\n",
      " Sure! I can help you manage your schedule and create reminders for upcoming meetings. What type of meetings do you have scheduled?\n"
     ]
    }
   ],
   "source": [
    "# 🔍 Sample question\n",
    "question = \"Can you help me with scheduling meetings?\"\n",
    "\n",
    "# 🔎 Embed + search + build prompt\n",
    "query_vector = embed_query(question, model_embedd)\n",
    "top_indices = search_faiss(query_vector, index, top_k=3)\n",
    "print(top_indices)\n",
    "final_prompt = build_prompt(question, top_indices, chunk_id_to_text)\n",
    "\n",
    "# 💬 Generate LLM response\n",
    "answer = generate_answer(final_prompt)\n",
    "print(\"🤖 LLM Answer:\\n\", answer)"
   ]
  },
  {
   "cell_type": "code",
   "execution_count": 17,
   "id": "1e4dd8bd",
   "metadata": {},
   "outputs": [
    {
     "name": "stdout",
     "output_type": "stream",
     "text": [
      "Found file: sample_json.json (Type: .json)\n",
      "Found file: sample_pdf.pdf (Type: .pdf)\n",
      "Found file: sample_txt.txt (Type: .txt)\n"
     ]
    }
   ],
   "source": [
    "data_dir = r\"DATA_POOL\"\n",
    "for files in os.listdir(data_dir):\n",
    "    file_path = os.path.join(data_dir,files)\n",
    "    if os.path.isfile(file_path):\n",
    "        ext = os.path.splitext(files)[1].lower()\n",
    "        print(f\"Found file: {files} (Type: {ext})\")"
   ]
  },
  {
   "cell_type": "code",
   "execution_count": null,
   "id": "e761b9e8",
   "metadata": {},
   "outputs": [],
   "source": []
  }
 ],
 "metadata": {
  "kernelspec": {
   "display_name": "llm_rag_env",
   "language": "python",
   "name": "python3"
  },
  "language_info": {
   "codemirror_mode": {
    "name": "ipython",
    "version": 3
   },
   "file_extension": ".py",
   "mimetype": "text/x-python",
   "name": "python",
   "nbconvert_exporter": "python",
   "pygments_lexer": "ipython3",
   "version": "3.12.7"
  }
 },
 "nbformat": 4,
 "nbformat_minor": 5
}
